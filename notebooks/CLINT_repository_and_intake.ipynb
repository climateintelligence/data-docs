{
 "cells": [
  {
   "cell_type": "markdown",
   "metadata": {},
   "source": [
    "# The CLINT data repository and Intake data catalogs"
   ]
  },
  {
   "cell_type": "markdown",
   "metadata": {},
   "source": [
    "## Organisation of the CLINT storage area containing the data repository\n",
    "\n",
    "- The central CLINT data repository is hosted at **/work/bk1318/Data_Repository** as part of the **/work/bk1318** CLINT storage allocation\n",
    "- The overall structure of the CLINT work area is:\n",
    "     - *Data_Repository*: the central CLINT data repository, hosting FAIR CLINT data\n",
    "     - kxxxx: private working areas of CLINT members"
   ]
  },
  {
   "cell_type": "markdown",
   "metadata": {},
   "source": [
    "## Central data repository structure\n",
    "- The overall structure will be agreed and updated regularly (PMB meetings and General Assembly meetings)\n",
    "- The initial structure is:\n",
    "    - **Catalogs**: catalogs helping to locate and access data (including external sources)\n",
    "    - **HISTORY.md**: high level book keeping info on major updates/changes of the data repository content and structure\n",
    "    - **notebooks**: notebooks illustrating repository structure and use aspects\n",
    "    - **wp1** .. **wp8**: work package areas\n",
    "    - **climate_service**: data associated to (pre-operational) climate service prototypes"
   ]
  },
  {
   "cell_type": "markdown",
   "metadata": {},
   "source": [
    "## CLINT repository associated directly accessible data pools \n",
    "- DKRZ hosts large climate data collections (CMIP3, CMIP5, CMIP6, CORDEX, ERA5, etc.) as part of their **/pool/data** storage pool\n",
    "- all this data can be searched and directly accessed with the help of intake data catalogs\n",
    "- A detailed overview of the use of Intake at DKRZ is available:\n",
    "    - [Intake tutorials](https://tutorials.dkrz.de/tutorial_intake-1-introduction.html)\n",
    "    - [Use cases](https://tutorials.dkrz.de/Use-cases.html)"
   ]
  },
  {
   "cell_type": "markdown",
   "metadata": {},
   "source": [
    "### Intake Catalog examples\n",
    "- use catalogs of DKRZ data pool \n",
    "- use ad hoc catalogs for CLINT"
   ]
  },
  {
   "cell_type": "code",
   "execution_count": null,
   "metadata": {},
   "outputs": [],
   "source": [
    "import intake\n",
    "import xarray as xr\n"
   ]
  },
  {
   "cell_type": "code",
   "execution_count": null,
   "metadata": {},
   "outputs": [],
   "source": [
    "# the master catalog references all available catalogs\n",
    "\n",
    "master_catalog = intake.open_catalog('/pool/data/Catalogs/dkrz_catalog.yaml')\n",
    "list(master_catalog)"
   ]
  },
  {
   "cell_type": "markdown",
   "metadata": {},
   "source": [
    "The catalogs are acccessible at /pool/data/Catalogs and can also be directly loaded via intake_esm (see [intake tutorials])(https://tutorials.dkrz.de/intake.html)"
   ]
  },
  {
   "cell_type": "code",
   "execution_count": null,
   "metadata": {},
   "outputs": [],
   "source": [
    "!ls /pool/data/Catalogs"
   ]
  },
  {
   "cell_type": "markdown",
   "metadata": {},
   "source": [
    "## Example 1: Use CMIP6 intake catalog"
   ]
  },
  {
   "cell_type": "code",
   "execution_count": null,
   "metadata": {},
   "outputs": [],
   "source": [
    "cmip6_catalog = master_catalog[\"dkrz_cmip6_disk\"]"
   ]
  },
  {
   "cell_type": "code",
   "execution_count": null,
   "metadata": {},
   "outputs": [],
   "source": [
    "cmip6_catalog.df.head()"
   ]
  },
  {
   "cell_type": "code",
   "execution_count": null,
   "metadata": {},
   "outputs": [],
   "source": [
    "tas_catalog = cmip6_catalog.search(experiment_id=\"historical\", source_id=\"MPI-ESM1-2-HR\", variable_id=\"tas\", table_id=\"Amon\", member_id=\"r1i1p1f1\")\n",
    "tas_catalog.df.head()"
   ]
  },
  {
   "cell_type": "code",
   "execution_count": null,
   "metadata": {
    "tags": []
   },
   "outputs": [],
   "source": [
    "tas_path = tas_catalog.df['uri'].iloc[1]\n",
    "tas_path"
   ]
  },
  {
   "cell_type": "code",
   "execution_count": null,
   "metadata": {
    "tags": []
   },
   "outputs": [],
   "source": [
    "ds_tas = xr.open_dataset(tas_path)\n",
    "ds_tas"
   ]
  },
  {
   "cell_type": "markdown",
   "metadata": {},
   "source": [
    "## Example 2: Use ERA5 intake catalog"
   ]
  },
  {
   "cell_type": "code",
   "execution_count": null,
   "metadata": {},
   "outputs": [],
   "source": [
    "era5_catalog = master_catalog['dkrz_era5_disk']\n"
   ]
  },
  {
   "cell_type": "code",
   "execution_count": null,
   "metadata": {},
   "outputs": [],
   "source": [
    "query = {\n",
    "    'level_type':'surface',\n",
    "    'frequency':'hourly',\n",
    "    'code':167,\n",
    "}\n",
    "\n",
    "my_catalog = era5_catalog.search(**query)\n",
    "my_catalog.df.head()"
   ]
  },
  {
   "cell_type": "code",
   "execution_count": null,
   "metadata": {},
   "outputs": [],
   "source": [
    "era_path = my_catalog.df['uri'].iloc[1]\n",
    "era_path"
   ]
  },
  {
   "cell_type": "code",
   "execution_count": null,
   "metadata": {},
   "outputs": [],
   "source": [
    "ds_era = xr.load_dataset(era_path, engine='cfgrib', backend_kwargs= {'indexpath':''})\n",
    "ds_era"
   ]
  }
 ],
 "metadata": {
  "kernelspec": {
   "display_name": "Python 3 (based on the module python3/2023.01)",
   "language": "python",
   "name": "python3_2023_01"
  },
  "language_info": {
   "codemirror_mode": {
    "name": "ipython",
    "version": 3
   },
   "file_extension": ".py",
   "mimetype": "text/x-python",
   "name": "python",
   "nbconvert_exporter": "python",
   "pygments_lexer": "ipython3",
   "version": "3.10.10"
  }
 },
 "nbformat": 4,
 "nbformat_minor": 4
}
